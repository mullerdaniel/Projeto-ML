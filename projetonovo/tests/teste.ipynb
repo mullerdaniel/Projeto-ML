{
 "cells": [
  {
   "cell_type": "code",
   "execution_count": null,
   "id": "8b86b471",
   "metadata": {},
   "outputs": [],
   "source": [
    "#1 etapa\n",
    "import pandas as pd"
   ]
  },
  {
   "cell_type": "code",
   "execution_count": null,
   "id": "b9d6ce68",
   "metadata": {},
   "outputs": [],
   "source": [
    "#2 etapa\n",
    "df = pd.read_csv(\"pizzas.csv\")"
   ]
  },
  {
   "cell_type": "code",
   "execution_count": null,
   "id": "ec581fff",
   "metadata": {},
   "outputs": [],
   "source": [
    "#3 etapa graficos e informações sobre o dataset\n",
    "print(df.head())\n",
    "print(df.info())"
   ]
  },
  {
   "cell_type": "code",
   "execution_count": null,
   "id": "b4b06d26",
   "metadata": {},
   "outputs": [],
   "source": [
    "#3.1 grafico em barra\n",
    "df.plot(kind=\"sctatter\", x='diametro', y='preco')"
   ]
  },
  {
   "cell_type": "code",
   "execution_count": null,
   "id": "81690425",
   "metadata": {},
   "outputs": [],
   "source": [
    "#4 etapa - instalando biblioteca para treinamento de maquina\n",
    "from sklearn import linear_model"
   ]
  },
  {
   "cell_type": "code",
   "execution_count": null,
   "id": "fa32a0f2",
   "metadata": {},
   "outputs": [],
   "source": [
    "#5 etapa configurando modelo ml\n",
    "modelo = linear_model.LinearRegression()\n",
    "x = df[['diametro']]\n",
    "y = df[[preco]]"
   ]
  },
  {
   "cell_type": "code",
   "execution_count": null,
   "id": "c35e3b41",
   "metadata": {},
   "outputs": [],
   "source": []
  }
 ],
 "metadata": {
  "kernelspec": {
   "display_name": "Python 3",
   "language": "python",
   "name": "python3"
  },
  "language_info": {
   "codemirror_mode": {
    "name": "ipython",
    "version": 3
   },
   "file_extension": ".py",
   "mimetype": "text/x-python",
   "name": "python",
   "nbconvert_exporter": "python",
   "pygments_lexer": "ipython3",
   "version": "3.13.3"
  }
 },
 "nbformat": 4,
 "nbformat_minor": 5
}
